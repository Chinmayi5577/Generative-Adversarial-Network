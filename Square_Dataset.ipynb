{
  "nbformat": 4,
  "nbformat_minor": 0,
  "metadata": {
    "colab": {
      "name": "Square Dataset.ipynb",
      "provenance": []
    },
    "kernelspec": {
      "name": "python3",
      "display_name": "Python 3"
    },
    "accelerator": "GPU"
  },
  "cells": [
    {
      "cell_type": "code",
      "metadata": {
        "id": "f2BOOqSbXccJ",
        "colab_type": "code",
        "colab": {}
      },
      "source": [
        "import numpy as np\n",
        "import cv2\n",
        "import numpy as np\n",
        "import matplotlib.pyplot as plt\n",
        "import random\n",
        "import os"
      ],
      "execution_count": 0,
      "outputs": []
    },
    {
      "cell_type": "code",
      "metadata": {
        "id": "1jdA94MQpqAm",
        "colab_type": "code",
        "colab": {}
      },
      "source": [
        "root_dir='/content/sample_data/Images/squares'"
      ],
      "execution_count": 0,
      "outputs": []
    },
    {
      "cell_type": "code",
      "metadata": {
        "id": "32rO1wUhXfNR",
        "colab_type": "code",
        "colab": {}
      },
      "source": [
        "for i in range(5000):\n",
        "  x=random.randrange(2,10)\n",
        "  rgb_color=(random.randrange(256),random.randrange(256),random.randrange(256))\n",
        "\n",
        "  img=np.zeros((64,64,3),dtype=np.uint8)\n",
        "  color = tuple(reversed(rgb_color))\n",
        "  img[32-x:32+x,32-x:32+x,:]=color\n",
        "  trans=np.array([[1,0,random.randrange(-15,15)],[0,1,random.randrange(-15,15)]],dtype=np.float32)\n",
        "  img1=cv2.warpAffine(img,trans,(64,64))\n",
        "  mat=cv2.getRotationMatrix2D((32,32),random.randrange(90),1)\n",
        "  img2=cv2.warpAffine(img1,mat,(64,64))\n",
        "  \n",
        "  base=root_dir+str(i)+\".png\"\n",
        "  plt.imsave(base,img2)"
      ],
      "execution_count": 0,
      "outputs": []
    },
    {
      "cell_type": "code",
      "metadata": {
        "id": "ubeOaBoqdoG-",
        "colab_type": "code",
        "outputId": "82a744d1-8172-4e4f-a74c-fff964694f8a",
        "colab": {
          "base_uri": "https://localhost:8080/",
          "height": 34
        }
      },
      "source": [
        "tuple(reversed(rgb_color))"
      ],
      "execution_count": 4,
      "outputs": [
        {
          "output_type": "execute_result",
          "data": {
            "text/plain": [
              "(4, 245, 96)"
            ]
          },
          "metadata": {
            "tags": []
          },
          "execution_count": 4
        }
      ]
    },
    {
      "cell_type": "code",
      "metadata": {
        "id": "5Ih-mYlSdr51",
        "colab_type": "code",
        "outputId": "302b7468-7349-45d6-ca75-a89892d4b267",
        "colab": {
          "base_uri": "https://localhost:8080/",
          "height": 34
        }
      },
      "source": [
        "(rgb_color)\n"
      ],
      "execution_count": 5,
      "outputs": [
        {
          "output_type": "execute_result",
          "data": {
            "text/plain": [
              "(96, 245, 4)"
            ]
          },
          "metadata": {
            "tags": []
          },
          "execution_count": 5
        }
      ]
    },
    {
      "cell_type": "code",
      "metadata": {
        "id": "lcwJ55uld0N0",
        "colab_type": "code",
        "outputId": "d39079ac-2a50-4cd7-fe26-63df54840656",
        "colab": {
          "base_uri": "https://localhost:8080/",
          "height": 51
        }
      },
      "source": [
        "from __future__ import print_function\n",
        "#%matplotlib inline\n",
        "import argparse\n",
        "import os\n",
        "import random\n",
        "import torch\n",
        "import torch.nn as nn\n",
        "import torch.nn.parallel\n",
        "import torch.backends.cudnn as cudnn\n",
        "import torch.optim as optim\n",
        "import torch.utils.data\n",
        "import torchvision.datasets as dset\n",
        "import torchvision.transforms as transforms\n",
        "import torchvision.utils as vutils\n",
        "import numpy as np\n",
        "import matplotlib.pyplot as plt\n",
        "import matplotlib.animation as animation\n",
        "from IPython.display import HTML\n",
        "\n",
        "# Set random seed for reproducibility\n",
        "manualSeed = 999\n",
        "#manualSeed = random.randint(1, 10000) # use if you want new results\n",
        "print(\"Random Seed: \", manualSeed)\n",
        "random.seed(manualSeed)\n",
        "torch.manual_seed(manualSeed)"
      ],
      "execution_count": 6,
      "outputs": [
        {
          "output_type": "stream",
          "text": [
            "Random Seed:  999\n"
          ],
          "name": "stdout"
        },
        {
          "output_type": "execute_result",
          "data": {
            "text/plain": [
              "<torch._C.Generator at 0x7ff6952b6e30>"
            ]
          },
          "metadata": {
            "tags": []
          },
          "execution_count": 6
        }
      ]
    },
    {
      "cell_type": "code",
      "metadata": {
        "id": "DA2ojR7Tl_N4",
        "colab_type": "code",
        "colab": {}
      },
      "source": [
        "# Root directory for dataset\n",
        "dataroot = \"/content/sample_data/\"\n",
        "\n",
        "# Number of workers for dataloader\n",
        "workers = 2\n",
        "\n",
        "# Batch size during training\n",
        "batch_size = 128\n",
        "\n",
        "# Spatial size of training images. All images will be resized to this\n",
        "#   size using a transformer.\n",
        "image_size = 64\n",
        "\n",
        "# Number of channels in the training images. For color images this is 3\n",
        "nc = 3\n",
        "# Size of z latent vector (i.e. size of generator input)\n",
        "nz = 100\n",
        "\n",
        "# Size of feature maps in generator\n",
        "ngf = 64\n",
        "\n",
        "# Size of feature maps in discriminator\n",
        "ndf = 10\n",
        "\n",
        "# Number of training epochs\n",
        "num_epochs = 250\n",
        "\n",
        "# Learning rate for optimizers\n",
        "lr = 0.002 #0.0002\n",
        "\n",
        "# Beta1 hyperparam for Adam optimizers\n",
        "beta1 = 0.5\n",
        "\n",
        "# Number of GPUs available. Use 0 for CPU mode.\n",
        "ngpu = 1"
      ],
      "execution_count": 0,
      "outputs": []
    },
    {
      "cell_type": "code",
      "metadata": {
        "id": "2i6jJMQpmEBl",
        "colab_type": "code",
        "outputId": "b9472392-3195-4c72-c4a7-e2b6b07b4d3d",
        "colab": {
          "base_uri": "https://localhost:8080/",
          "height": 499
        }
      },
      "source": [
        "dataset = dset.ImageFolder(root=dataroot,\n",
        "                           transform=transforms.Compose([\n",
        "                               transforms.Resize(image_size),\n",
        "                               transforms.CenterCrop(image_size),\n",
        "                               transforms.ToTensor(),\n",
        "                               transforms.Normalize((0.5, 0.5, 0.5), (0.5, 0.5, 0.5)),\n",
        "                           ]))\n",
        "# Create the dataloader\n",
        "dataloader = torch.utils.data.DataLoader(dataset, batch_size=batch_size,\n",
        "                                         shuffle=True, num_workers=workers)\n",
        "\n",
        "# Decide which device we want to run on\n",
        "device = torch.device(\"cuda:0\" if (torch.cuda.is_available() and ngpu > 0) else \"cpu\")\n",
        "\n",
        "# Plot some training images\n",
        "real_batch = next(iter(dataloader))\n",
        "plt.figure(figsize=(8,8))\n",
        "plt.axis(\"off\")\n",
        "plt.title(\"Training Images\")\n",
        "plt.imshow(np.transpose(vutils.make_grid(real_batch[0].to(device)[:64], padding=2, normalize=True).cpu(),(1,2,0)))"
      ],
      "execution_count": 19,
      "outputs": [
        {
          "output_type": "execute_result",
          "data": {
            "text/plain": [
              "<matplotlib.image.AxesImage at 0x7ff6dff8e5f8>"
            ]
          },
          "metadata": {
            "tags": []
          },
          "execution_count": 19
        },
        {
          "output_type": "display_data",
          "data": {
            "image/png": "[encoded data removed]",
            "text/plain": [
              "<Figure size 576x576 with 1 Axes>"
            ]
          },
          "metadata": {
            "tags": []
          }
        }
      ]
    },
    {
      "cell_type": "code",
      "metadata": {
        "id": "Ss2_amLkmG3o",
        "colab_type": "code",
        "colab": {}
      },
      "source": [
        "# custom weights initialization called on netG and netD\n",
        "def weights_init(m):\n",
        "    classname = m.__class__.__name__\n",
        "    if classname.find('Conv') != -1:\n",
        "        nn.init.normal_(m.weight.data, 0.0, 0.02)\n",
        "    elif classname.find('BatchNorm') != -1:\n",
        "        nn.init.normal_(m.weight.data, 1.0, 0.02)\n",
        "        nn.init.constant_(m.bias.data, 0)"
      ],
      "execution_count": 0,
      "outputs": []
    },
    {
      "cell_type": "code",
      "metadata": {
        "id": "Uys2hoyduWMJ",
        "colab_type": "code",
        "colab": {}
      },
      "source": [
        "class Generator(nn.Module):\n",
        "    def __init__(self, ngpu):\n",
        "        super(Generator, self).__init__()\n",
        "        self.ngpu = ngpu\n",
        "        self.main = nn.Sequential(\n",
        "            # input is Z, going into a convolution\n",
        "            nn.ConvTranspose2d( nz, ngf * 8, 4, 1, 0, bias=False),\n",
        "            nn.BatchNorm2d(ngf * 8),\n",
        "            nn.ReLU(True),\n",
        "            # state size. (ngf*8) x 4 x 4\n",
        "            nn.ConvTranspose2d(ngf * 8, ngf * 4, 4, 2, 1, bias=False),\n",
        "            nn.BatchNorm2d(ngf * 4),\n",
        "            nn.ReLU(True),\n",
        "            # state size. (ngf*4) x 8 x 8\n",
        "            nn.ConvTranspose2d( ngf * 4, ngf * 2, 4, 2, 1, bias=False),\n",
        "            nn.BatchNorm2d(ngf * 2),\n",
        "            nn.ReLU(True),\n",
        "            # state size. (ngf*2) x 16 x 16\n",
        "            nn.ConvTranspose2d( ngf * 2, ngf, 4, 2, 1, bias=False),\n",
        "            nn.BatchNorm2d(ngf),\n",
        "            nn.ReLU(True),\n",
        "            # state size. (ngf) x 32 x 32\n",
        "            nn.ConvTranspose2d( ngf, nc, 4, 2, 1, bias=False),\n",
        "            nn.Tanh()\n",
        "# state size. (nc) x 64 x 64\n",
        "        )\n",
        "\n",
        "    def forward(self, input):\n",
        "        return self.main(input)"
      ],
      "execution_count": 0,
      "outputs": []
    },
    {
      "cell_type": "code",
      "metadata": {
        "id": "0are3UXnudXF",
        "colab_type": "code",
        "colab": {
          "base_uri": "https://localhost:8080/",
          "height": 323
        },
        "outputId": "22a8d362-c330-4337-d6be-f80842295785"
      },
      "source": [
        "# Create the generator\n",
        "netG = Generator(ngpu).to(device)\n",
        "\n",
        "# Handle multi-gpu if desired\n",
        "if (device.type == 'cuda') and (ngpu > 1):\n",
        "    netG = nn.DataParallel(netG, list(range(ngpu)))\n",
        "\n",
        "# Apply the weights_init function to randomly initialize all weights\n",
        "#  to mean=0, stdev=0.2.\n",
        "netG.apply(weights_init)\n",
        "\n",
        "# Print the model\n",
        "print(netG)"
      ],
      "execution_count": 22,
      "outputs": [
        {
          "output_type": "stream",
          "text": [
            "Generator(\n",
            "  (main): Sequential(\n",
            "    (0): ConvTranspose2d(100, 512, kernel_size=(4, 4), stride=(1, 1), bias=False)\n",
            "    (1): BatchNorm2d(512, eps=1e-05, momentum=0.1, affine=True, track_running_stats=True)\n",
            "    (2): ReLU(inplace=True)\n",
            "    (3): ConvTranspose2d(512, 256, kernel_size=(4, 4), stride=(2, 2), padding=(1, 1), bias=False)\n",
            "    (4): BatchNorm2d(256, eps=1e-05, momentum=0.1, affine=True, track_running_stats=True)\n",
            "    (5): ReLU(inplace=True)\n",
            "    (6): ConvTranspose2d(256, 128, kernel_size=(4, 4), stride=(2, 2), padding=(1, 1), bias=False)\n",
            "    (7): BatchNorm2d(128, eps=1e-05, momentum=0.1, affine=True, track_running_stats=True)\n",
            "    (8): ReLU(inplace=True)\n",
            "    (9): ConvTranspose2d(128, 64, kernel_size=(4, 4), stride=(2, 2), padding=(1, 1), bias=False)\n",
            "    (10): BatchNorm2d(64, eps=1e-05, momentum=0.1, affine=True, track_running_stats=True)\n",
            "    (11): ReLU(inplace=True)\n",
            "    (12): ConvTranspose2d(64, 3, kernel_size=(4, 4), stride=(2, 2), padding=(1, 1), bias=False)\n",
            "    (13): Tanh()\n",
            "  )\n",
            ")\n"
          ],
          "name": "stdout"
        }
      ]
    },
    {
      "cell_type": "code",
      "metadata": {
        "id": "pMUipLeiugBm",
        "colab_type": "code",
        "colab": {}
      },
      "source": [
        "class Discriminator(nn.Module):\n",
        "    def __init__(self, ngpu):\n",
        "        super(Discriminator, self).__init__()\n",
        "        self.ngpu = ngpu\n",
        "        self.main = nn.Sequential(\n",
        "            # input is (nc) x 64 x 64\n",
        "            nn.Conv2d(nc, ndf, 4, 2, 1, bias=False),\n",
        "            nn.LeakyReLU(0.2, inplace=True),\n",
        "            # state size. (ndf) x 32 x 32\n",
        "            nn.Conv2d(ndf, ndf * 2, 4, 2, 1, bias=False),\n",
        "            nn.BatchNorm2d(ndf * 2),\n",
        "            nn.LeakyReLU(0.2, inplace=True),\n",
        "            # state size. (ndf*2) x 16 x 16\n",
        "            nn.Conv2d(ndf * 2, ndf * 4, 4, 2, 1, bias=False),\n",
        "            nn.BatchNorm2d(ndf * 4),\n",
        "            nn.LeakyReLU(0.2, inplace=True),\n",
        "            # state size. (ndf*4) x 8 x 8\n",
        "            nn.Conv2d(ndf * 4, ndf * 8, 4, 2, 1, bias=False),\n",
        "            nn.BatchNorm2d(ndf * 8),\n",
        "            nn.LeakyReLU(0.2, inplace=True),\n",
        "            # state size. (ndf*8) x 4 x 4\n",
        "            nn.Conv2d(ndf * 8, 1, 4, 1, 0, bias=False),\n",
        "            nn.Sigmoid()\n",
        ")\n",
        "\n",
        "    def forward(self, input):\n",
        "        return self.main(input)"
      ],
      "execution_count": 0,
      "outputs": []
    },
    {
      "cell_type": "code",
      "metadata": {
        "id": "R-XFzGnVujim",
        "colab_type": "code",
        "colab": {
          "base_uri": "https://localhost:8080/",
          "height": 306
        },
        "outputId": "cef86736-bd1c-4d05-b15d-02c7e1f8b648"
      },
      "source": [
        "# Create the Discriminator\n",
        "netD = Discriminator(ngpu).to(device)\n",
        "\n",
        "# Handle multi-gpu if desired\n",
        "if (device.type == 'cuda') and (ngpu > 1):\n",
        "    netD = nn.DataParallel(netD, list(range(ngpu)))\n",
        "\n",
        "# Apply the weights_init function to randomly initialize all weights\n",
        "#  to mean=0, stdev=0.2.\n",
        "netD.apply(weights_init)\n",
        "\n",
        "# Print the model\n",
        "print(netD)"
      ],
      "execution_count": 24,
      "outputs": [
        {
          "output_type": "stream",
          "text": [
            "Discriminator(\n",
            "  (main): Sequential(\n",
            "    (0): Conv2d(3, 10, kernel_size=(4, 4), stride=(2, 2), padding=(1, 1), bias=False)\n",
            "    (1): LeakyReLU(negative_slope=0.2, inplace=True)\n",
            "    (2): Conv2d(10, 20, kernel_size=(4, 4), stride=(2, 2), padding=(1, 1), bias=False)\n",
            "    (3): BatchNorm2d(20, eps=1e-05, momentum=0.1, affine=True, track_running_stats=True)\n",
            "    (4): LeakyReLU(negative_slope=0.2, inplace=True)\n",
            "    (5): Conv2d(20, 40, kernel_size=(4, 4), stride=(2, 2), padding=(1, 1), bias=False)\n",
            "    (6): BatchNorm2d(40, eps=1e-05, momentum=0.1, affine=True, track_running_stats=True)\n",
            "    (7): LeakyReLU(negative_slope=0.2, inplace=True)\n",
            "    (8): Conv2d(40, 80, kernel_size=(4, 4), stride=(2, 2), padding=(1, 1), bias=False)\n",
            "    (9): BatchNorm2d(80, eps=1e-05, momentum=0.1, affine=True, track_running_stats=True)\n",
            "    (10): LeakyReLU(negative_slope=0.2, inplace=True)\n",
            "    (11): Conv2d(80, 1, kernel_size=(4, 4), stride=(1, 1), bias=False)\n",
            "    (12): Sigmoid()\n",
            "  )\n",
            ")\n"
          ],
          "name": "stdout"
        }
      ]
    },
    {
      "cell_type": "code",
      "metadata": {
        "id": "bGwh3zd2umLJ",
        "colab_type": "code",
        "colab": {}
      },
      "source": [
        "# Initialize BCELoss function\n",
        "criterion = nn.BCELoss()\n",
        "\n",
        "# Create batch of latent vectors that we will use to visualize\n",
        "#  the progression of the generator\n",
        "fixed_noise = torch.randn(64, nz, 1, 1, device=device)\n",
        "\n",
        "# Establish convention for real and fake labels during training\n",
        "real_label = 1\n",
        "fake_label = 0\n",
        "\n",
        "# Setup Adam optimizers for both G and D\n",
        "optimizerD = optim.Adam(netD.parameters(), lr=lr, betas=(beta1, 0.999))\n",
        "optimizerG = optim.Adam(netG.parameters(), lr=lr, betas=(beta1, 0.999))"
      ],
      "execution_count": 0,
      "outputs": []
    },
    {
      "cell_type": "code",
      "metadata": {
        "id": "4QwBpk9Vu477",
        "colab_type": "code",
        "colab": {
          "base_uri": "https://localhost:8080/",
          "height": 1000
        },
        "outputId": "1f47b475-d556-4855-c193-ff0f18105e58"
      },
      "source": [
        "#Training Loop\n",
        "\n",
        "# Lists to keep track of progress\n",
        "img_list = []\n",
        "G_losses = []\n",
        "D_losses = []\n",
        "iters = 0\n",
        "\n",
        "print(\"Starting Training Loop...\")\n",
        "# For each epoch\n",
        "for epoch in range(num_epochs):\n",
        "    # For each batch in the dataloader\n",
        "    for i, data in enumerate(dataloader, 0):\n",
        "\n",
        "        ############################\n",
        "        # (1) Update D network: maximize log(D(x)) + log(1 - D(G(z)))\n",
        "        ###########################\n",
        "        ## Train with all-real batch\n",
        "        netD.zero_grad()\n",
        "        # Format batch\n",
        "        real_cpu = data[0].to(device)\n",
        "        b_size = real_cpu.size(0)\n",
        "        label = torch.full((b_size,), real_label, device=device)\n",
        "        # Forward pass real batch through D\n",
        "        output = netD(real_cpu).view(-1)\n",
        "        # Calculate loss on all-real batch\n",
        "        errD_real = criterion(output, label)\n",
        "        # Calculate gradients for D in backward pass\n",
        "        errD_real.backward()\n",
        "        D_x = output.mean().item()\n",
        "\n",
        "        ## Train with all-fake batch\n",
        "        # Generate batch of latent vectors\n",
        "        noise = torch.randn(b_size, nz, 1, 1, device=device)\n",
        "        # Generate fake image batch with G\n",
        "        fake = netG(noise)\n",
        "        label.fill_(fake_label)\n",
        "        # Classify all fake batch with D\n",
        "        output = netD(fake.detach()).view(-1)\n",
        "        # Calculate D's loss on the all-fake batch\n",
        "        errD_fake = criterion(output, label)\n",
        "        # Calculate the gradients for this batch\n",
        "        errD_fake.backward()\n",
        "        D_G_z1 = output.mean().item()\n",
        "        # Add the gradients from the all-real and all-fake batches\n",
        "        errD = errD_real + errD_fake\n",
        "        # Update D\n",
        "        optimizerD.step()\n",
        "        ############################\n",
        "        # (2) Update G network: maximize log(D(G(z)))\n",
        "        ###########################\n",
        "        netG.zero_grad()\n",
        "        label.fill_(real_label)  # fake labels are real for generator cost\n",
        "        # Since we just updated D, perform another forward pass of all-fake batch through D\n",
        "        output = netD(fake).view(-1)\n",
        "        # Calculate G's loss based on this output\n",
        "        errG = criterion(output, label)\n",
        "        # Calculate gradients for G\n",
        "        errG.backward()\n",
        "        D_G_z2 = output.mean().item()\n",
        "        # Update G\n",
        "        optimizerG.step()\n",
        "\n",
        "        # Output training stats\n",
        "        if i % 50 == 0:\n",
        "            print('[%d/%d][%d/%d]\\tLoss_D: %.4f\\tLoss_G: %.4f\\tD(x): %.4f\\tD(G(z)): %.4f / %.4f'\n",
        "                  % (epoch, num_epochs, i, len(dataloader),\n",
        "                     errD.item(), errG.item(), D_x, D_G_z1, D_G_z2))\n",
        "\n",
        "        # Save Losses for plotting later\n",
        "        G_losses.append(errG.item())\n",
        "        D_losses.append(errD.item())\n",
        "\n",
        "        # Check how the generator is doing by saving G's output on fixed_noise\n",
        "        if (iters % 500 == 0) or ((epoch == num_epochs-1) and (i == len(dataloader)-1)):\n",
        "            with torch.no_grad():\n",
        "                fake = netG(fixed_noise).detach().cpu()\n",
        "            img_list.append(vutils.make_grid(fake, padding=2, normalize=True))\n",
        "\n",
        "        iters += 1"
      ],
      "execution_count": 26,
      "outputs": [
        {
          "output_type": "stream",
          "text": [
            "Starting Training Loop...\n",
            "[0/250][0/40]\tLoss_D: 1.5083\tLoss_G: 3.1030\tD(x): 0.5193\tD(G(z)): 0.5580 / 0.0500\n",
            "[1/250][0/40]\tLoss_D: 1.1273\tLoss_G: 4.3071\tD(x): 0.9575\tD(G(z)): 0.6428 / 0.0189\n",
            "[2/250][0/40]\tLoss_D: 0.8959\tLoss_G: 2.3027\tD(x): 0.7695\tD(G(z)): 0.4214 / 0.1351\n",
            "[3/250][0/40]\tLoss_D: 1.9913\tLoss_G: 1.8638\tD(x): 0.9632\tD(G(z)): 0.8316 / 0.2346\n",
            "[4/250][0/40]\tLoss_D: 1.1840\tLoss_G: 1.2598\tD(x): 0.6393\tD(G(z)): 0.4636 / 0.3197\n",
            "[5/250][0/40]\tLoss_D: 1.0688\tLoss_G: 1.1410\tD(x): 0.6523\tD(G(z)): 0.4399 / 0.3490\n",
            "[6/250][0/40]\tLoss_D: 1.4322\tLoss_G: 1.3753\tD(x): 0.8803\tD(G(z)): 0.6823 / 0.2841\n",
            "[7/250][0/40]\tLoss_D: 1.6015\tLoss_G: 0.7308\tD(x): 0.3083\tD(G(z)): 0.1730 / 0.5231\n",
            "[8/250][0/40]\tLoss_D: 0.3109\tLoss_G: 3.0377\tD(x): 0.9749\tD(G(z)): 0.2412 / 0.0532\n",
            "[9/250][0/40]\tLoss_D: 0.0963\tLoss_G: 3.6060\tD(x): 0.9767\tD(G(z)): 0.0692 / 0.0318\n",
            "[10/250][0/40]\tLoss_D: 1.2836\tLoss_G: 0.9573\tD(x): 0.8175\tD(G(z)): 0.6250 / 0.4186\n",
            "[11/250][0/40]\tLoss_D: 2.2173\tLoss_G: 2.2683\tD(x): 0.9030\tD(G(z)): 0.8591 / 0.1209\n",
            "[12/250][0/40]\tLoss_D: 1.3957\tLoss_G: 1.8665\tD(x): 0.8426\tD(G(z)): 0.6767 / 0.1841\n",
            "[13/250][0/40]\tLoss_D: 1.4135\tLoss_G: 1.1199\tD(x): 0.8055\tD(G(z)): 0.6817 / 0.3472\n",
            "[14/250][0/40]\tLoss_D: 0.7133\tLoss_G: 2.4056\tD(x): 0.7925\tD(G(z)): 0.3670 / 0.1017\n",
            "[15/250][0/40]\tLoss_D: 0.1645\tLoss_G: 3.3109\tD(x): 0.9155\tD(G(z)): 0.0721 / 0.0445\n",
            "[16/250][0/40]\tLoss_D: 3.1061\tLoss_G: 2.8079\tD(x): 0.9390\tD(G(z)): 0.9267 / 0.0907\n",
            "[17/250][0/40]\tLoss_D: 1.5160\tLoss_G: 1.5654\tD(x): 0.6862\tD(G(z)): 0.6472 / 0.2376\n",
            "[18/250][0/40]\tLoss_D: 1.2336\tLoss_G: 1.8519\tD(x): 0.6772\tD(G(z)): 0.5518 / 0.1678\n",
            "[19/250][0/40]\tLoss_D: 1.1634\tLoss_G: 1.2327\tD(x): 0.7082\tD(G(z)): 0.5361 / 0.3115\n",
            "[20/250][0/40]\tLoss_D: 0.9873\tLoss_G: 2.0708\tD(x): 0.7896\tD(G(z)): 0.5102 / 0.1368\n",
            "[21/250][0/40]\tLoss_D: 2.6956\tLoss_G: 1.6398\tD(x): 0.9448\tD(G(z)): 0.9157 / 0.2289\n",
            "[22/250][0/40]\tLoss_D: 1.8820\tLoss_G: 1.7881\tD(x): 0.9423\tD(G(z)): 0.8121 / 0.1988\n",
            "[23/250][0/40]\tLoss_D: 1.8132\tLoss_G: 2.0600\tD(x): 0.7894\tD(G(z)): 0.7716 / 0.1436\n",
            "[24/250][0/40]\tLoss_D: 2.3297\tLoss_G: 1.5510\tD(x): 0.9026\tD(G(z)): 0.8767 / 0.2616\n",
            "[25/250][0/40]\tLoss_D: 1.2211\tLoss_G: 1.5525\tD(x): 0.6965\tD(G(z)): 0.5538 / 0.2292\n",
            "[26/250][0/40]\tLoss_D: 3.9205\tLoss_G: 0.5233\tD(x): 0.9814\tD(G(z)): 0.9762 / 0.6092\n",
            "[27/250][0/40]\tLoss_D: 1.1440\tLoss_G: 1.4571\tD(x): 0.7115\tD(G(z)): 0.5271 / 0.2583\n",
            "[28/250][0/40]\tLoss_D: 1.3745\tLoss_G: 0.9615\tD(x): 0.5824\tD(G(z)): 0.5053 / 0.4106\n",
            "[29/250][0/40]\tLoss_D: 1.6179\tLoss_G: 1.8983\tD(x): 0.8513\tD(G(z)): 0.7297 / 0.1823\n",
            "[30/250][0/40]\tLoss_D: 2.8384\tLoss_G: 0.7431\tD(x): 0.9574\tD(G(z)): 0.9255 / 0.5105\n",
            "[31/250][0/40]\tLoss_D: 1.7528\tLoss_G: 1.0912\tD(x): 0.8571\tD(G(z)): 0.7807 / 0.3600\n",
            "[32/250][0/40]\tLoss_D: 1.6560\tLoss_G: 1.2925\tD(x): 0.8007\tD(G(z)): 0.7273 / 0.3081\n",
            "[33/250][0/40]\tLoss_D: 1.9204\tLoss_G: 0.9400\tD(x): 0.7623\tD(G(z)): 0.7684 / 0.4317\n",
            "[34/250][0/40]\tLoss_D: 1.6637\tLoss_G: 0.9298\tD(x): 0.7781\tD(G(z)): 0.7320 / 0.4213\n",
            "[35/250][0/40]\tLoss_D: 1.4207\tLoss_G: 0.9479\tD(x): 0.5608\tD(G(z)): 0.4882 / 0.4339\n",
            "[36/250][0/40]\tLoss_D: 1.0266\tLoss_G: 1.3093\tD(x): 0.6248\tD(G(z)): 0.3938 / 0.2985\n",
            "[37/250][0/40]\tLoss_D: 1.7616\tLoss_G: 1.5431\tD(x): 0.7674\tD(G(z)): 0.7277 / 0.2647\n",
            "[38/250][0/40]\tLoss_D: 2.5265\tLoss_G: 1.8914\tD(x): 0.9384\tD(G(z)): 0.8953 / 0.1791\n",
            "[39/250][0/40]\tLoss_D: 1.3255\tLoss_G: 1.5531\tD(x): 0.7712\tD(G(z)): 0.6177 / 0.2442\n",
            "[40/250][0/40]\tLoss_D: 2.6937\tLoss_G: 1.0286\tD(x): 0.9566\tD(G(z)): 0.9219 / 0.3894\n",
            "[41/250][0/40]\tLoss_D: 2.0912\tLoss_G: 1.1290\tD(x): 0.8998\tD(G(z)): 0.8293 / 0.3767\n",
            "[42/250][0/40]\tLoss_D: 1.7766\tLoss_G: 1.5711\tD(x): 0.7889\tD(G(z)): 0.7471 / 0.2406\n",
            "[43/250][0/40]\tLoss_D: 1.3353\tLoss_G: 1.2270\tD(x): 0.6827\tD(G(z)): 0.5809 / 0.3191\n",
            "[44/250][0/40]\tLoss_D: 1.3058\tLoss_G: 1.5360\tD(x): 0.6516\tD(G(z)): 0.5448 / 0.2376\n",
            "[45/250][0/40]\tLoss_D: 1.4148\tLoss_G: 1.3822\tD(x): 0.7389\tD(G(z)): 0.6337 / 0.2708\n",
            "[46/250][0/40]\tLoss_D: 1.5704\tLoss_G: 1.9582\tD(x): 0.8262\tD(G(z)): 0.6878 / 0.1914\n",
            "[47/250][0/40]\tLoss_D: 2.1038\tLoss_G: 1.4182\tD(x): 0.9009\tD(G(z)): 0.8384 / 0.2764\n",
            "[48/250][0/40]\tLoss_D: 2.4984\tLoss_G: 1.1022\tD(x): 0.9508\tD(G(z)): 0.9014 / 0.3531\n",
            "[49/250][0/40]\tLoss_D: 1.3358\tLoss_G: 1.0661\tD(x): 0.6684\tD(G(z)): 0.5804 / 0.3664\n",
            "[50/250][0/40]\tLoss_D: 1.7093\tLoss_G: 1.0941\tD(x): 0.8150\tD(G(z)): 0.7235 / 0.3792\n",
            "[51/250][0/40]\tLoss_D: 1.6730\tLoss_G: 1.1959\tD(x): 0.7817\tD(G(z)): 0.7388 / 0.3310\n",
            "[52/250][0/40]\tLoss_D: 1.3814\tLoss_G: 0.9108\tD(x): 0.6429\tD(G(z)): 0.5839 / 0.4315\n",
            "[53/250][0/40]\tLoss_D: 1.3635\tLoss_G: 1.0750\tD(x): 0.6302\tD(G(z)): 0.5679 / 0.3676\n",
            "[54/250][0/40]\tLoss_D: 1.3975\tLoss_G: 0.8521\tD(x): 0.6326\tD(G(z)): 0.5750 / 0.4490\n",
            "[55/250][0/40]\tLoss_D: 1.2367\tLoss_G: 0.9374\tD(x): 0.5830\tD(G(z)): 0.4798 / 0.4121\n",
            "[56/250][0/40]\tLoss_D: 1.7145\tLoss_G: 0.9890\tD(x): 0.7354\tD(G(z)): 0.7380 / 0.3902\n",
            "[57/250][0/40]\tLoss_D: 1.3800\tLoss_G: 0.7704\tD(x): 0.4608\tD(G(z)): 0.4281 / 0.4762\n",
            "[58/250][0/40]\tLoss_D: 1.4702\tLoss_G: 0.8344\tD(x): 0.6146\tD(G(z)): 0.5971 / 0.4500\n",
            "[59/250][0/40]\tLoss_D: 1.4480\tLoss_G: 1.1630\tD(x): 0.7060\tD(G(z)): 0.6479 / 0.3328\n",
            "[60/250][0/40]\tLoss_D: 1.6924\tLoss_G: 1.1608\tD(x): 0.6825\tD(G(z)): 0.6561 / 0.3584\n",
            "[61/250][0/40]\tLoss_D: 1.4795\tLoss_G: 1.0938\tD(x): 0.7238\tD(G(z)): 0.6357 / 0.3775\n",
            "[62/250][0/40]\tLoss_D: 1.4919\tLoss_G: 2.0434\tD(x): 0.7223\tD(G(z)): 0.6658 / 0.1424\n",
            "[63/250][0/40]\tLoss_D: 1.3529\tLoss_G: 1.0434\tD(x): 0.6131\tD(G(z)): 0.5360 / 0.3907\n",
            "[64/250][0/40]\tLoss_D: 1.3382\tLoss_G: 0.9358\tD(x): 0.6034\tD(G(z)): 0.5457 / 0.4099\n",
            "[65/250][0/40]\tLoss_D: 1.5015\tLoss_G: 0.9892\tD(x): 0.6737\tD(G(z)): 0.6406 / 0.3970\n",
            "[66/250][0/40]\tLoss_D: 1.5262\tLoss_G: 0.8675\tD(x): 0.6142\tD(G(z)): 0.6021 / 0.4496\n",
            "[67/250][0/40]\tLoss_D: 1.4517\tLoss_G: 0.8569\tD(x): 0.6519\tD(G(z)): 0.6122 / 0.4431\n",
            "[68/250][0/40]\tLoss_D: 1.3961\tLoss_G: 0.9345\tD(x): 0.6508\tD(G(z)): 0.5888 / 0.4182\n",
            "[69/250][0/40]\tLoss_D: 1.7169\tLoss_G: 1.2666\tD(x): 0.7961\tD(G(z)): 0.7584 / 0.3061\n",
            "[70/250][0/40]\tLoss_D: 1.3444\tLoss_G: 0.8744\tD(x): 0.5378\tD(G(z)): 0.4739 / 0.4458\n",
            "[71/250][0/40]\tLoss_D: 1.4212\tLoss_G: 1.0210\tD(x): 0.6572\tD(G(z)): 0.6075 / 0.3765\n",
            "[72/250][0/40]\tLoss_D: 1.5088\tLoss_G: 1.0442\tD(x): 0.7029\tD(G(z)): 0.6701 / 0.3658\n",
            "[73/250][0/40]\tLoss_D: 1.5478\tLoss_G: 0.9896\tD(x): 0.6490\tD(G(z)): 0.6326 / 0.3948\n",
            "[74/250][0/40]\tLoss_D: 1.5884\tLoss_G: 1.0046\tD(x): 0.7497\tD(G(z)): 0.7079 / 0.3888\n",
            "[75/250][0/40]\tLoss_D: 1.6260\tLoss_G: 1.0084\tD(x): 0.6881\tD(G(z)): 0.7056 / 0.3726\n",
            "[76/250][0/40]\tLoss_D: 1.6063\tLoss_G: 1.0976\tD(x): 0.7707\tD(G(z)): 0.7156 / 0.3639\n",
            "[77/250][0/40]\tLoss_D: 1.5596\tLoss_G: 0.8725\tD(x): 0.6325\tD(G(z)): 0.6216 / 0.4490\n",
            "[78/250][0/40]\tLoss_D: 1.5797\tLoss_G: 1.1659\tD(x): 0.7185\tD(G(z)): 0.6838 / 0.3407\n",
            "[79/250][0/40]\tLoss_D: 1.4422\tLoss_G: 1.0088\tD(x): 0.6918\tD(G(z)): 0.6417 / 0.3799\n",
            "[80/250][0/40]\tLoss_D: 1.3294\tLoss_G: 1.0124\tD(x): 0.5782\tD(G(z)): 0.5287 / 0.3793\n",
            "[81/250][0/40]\tLoss_D: 1.4840\tLoss_G: 0.8834\tD(x): 0.6584\tD(G(z)): 0.6324 / 0.4343\n",
            "[82/250][0/40]\tLoss_D: 1.6184\tLoss_G: 0.9444\tD(x): 0.5452\tD(G(z)): 0.5644 / 0.4210\n",
            "[83/250][0/40]\tLoss_D: 1.4007\tLoss_G: 0.9732\tD(x): 0.4948\tD(G(z)): 0.4643 / 0.4033\n",
            "[84/250][0/40]\tLoss_D: 1.4323\tLoss_G: 0.7016\tD(x): 0.4565\tD(G(z)): 0.4302 / 0.5167\n",
            "[85/250][0/40]\tLoss_D: 1.4150\tLoss_G: 1.0827\tD(x): 0.5920\tD(G(z)): 0.5618 / 0.3579\n",
            "[86/250][0/40]\tLoss_D: 1.5015\tLoss_G: 1.0345\tD(x): 0.6339\tD(G(z)): 0.6038 / 0.3896\n",
            "[87/250][0/40]\tLoss_D: 1.5256\tLoss_G: 0.8403\tD(x): 0.6672\tD(G(z)): 0.6579 / 0.4432\n",
            "[88/250][0/40]\tLoss_D: 1.5836\tLoss_G: 0.9088\tD(x): 0.6113\tD(G(z)): 0.6154 / 0.4346\n",
            "[89/250][0/40]\tLoss_D: 1.6058\tLoss_G: 1.0481\tD(x): 0.6521\tD(G(z)): 0.6615 / 0.3771\n",
            "[90/250][0/40]\tLoss_D: 1.3963\tLoss_G: 1.1775\tD(x): 0.6934\tD(G(z)): 0.5992 / 0.3499\n",
            "[91/250][0/40]\tLoss_D: 1.4742\tLoss_G: 1.1896\tD(x): 0.7381\tD(G(z)): 0.6679 / 0.3292\n",
            "[92/250][0/40]\tLoss_D: 1.5148\tLoss_G: 1.3744\tD(x): 0.7274\tD(G(z)): 0.6826 / 0.2673\n",
            "[93/250][0/40]\tLoss_D: 1.3168\tLoss_G: 0.9023\tD(x): 0.6066\tD(G(z)): 0.5431 / 0.4191\n",
            "[94/250][0/40]\tLoss_D: 1.3632\tLoss_G: 0.7824\tD(x): 0.5986\tD(G(z)): 0.5231 / 0.4952\n",
            "[95/250][0/40]\tLoss_D: 1.4411\tLoss_G: 0.9522\tD(x): 0.7508\tD(G(z)): 0.6696 / 0.4013\n",
            "[96/250][0/40]\tLoss_D: 1.9466\tLoss_G: 0.9324\tD(x): 0.8229\tD(G(z)): 0.8011 / 0.4269\n",
            "[97/250][0/40]\tLoss_D: 1.4425\tLoss_G: 2.0894\tD(x): 0.7441\tD(G(z)): 0.6468 / 0.1509\n",
            "[98/250][0/40]\tLoss_D: 1.3615\tLoss_G: 1.1279\tD(x): 0.6506\tD(G(z)): 0.5829 / 0.3419\n",
            "[99/250][0/40]\tLoss_D: 1.4691\tLoss_G: 1.1740\tD(x): 0.7322\tD(G(z)): 0.6727 / 0.3198\n",
            "[100/250][0/40]\tLoss_D: 1.4784\tLoss_G: 1.2033\tD(x): 0.7433\tD(G(z)): 0.6715 / 0.3232\n",
            "[101/250][0/40]\tLoss_D: 1.1066\tLoss_G: 1.6762\tD(x): 0.5187\tD(G(z)): 0.3420 / 0.2166\n",
            "[102/250][0/40]\tLoss_D: 1.9639\tLoss_G: 1.5674\tD(x): 0.9035\tD(G(z)): 0.8265 / 0.2368\n",
            "[103/250][0/40]\tLoss_D: 1.4417\tLoss_G: 0.9106\tD(x): 0.6344\tD(G(z)): 0.6030 / 0.4195\n",
            "[104/250][0/40]\tLoss_D: 1.3080\tLoss_G: 0.8316\tD(x): 0.6168\tD(G(z)): 0.5500 / 0.4423\n",
            "[105/250][0/40]\tLoss_D: 1.7504\tLoss_G: 0.7718\tD(x): 0.8217\tD(G(z)): 0.7701 / 0.4842\n",
            "[106/250][0/40]\tLoss_D: 1.4257\tLoss_G: 0.8374\tD(x): 0.5522\tD(G(z)): 0.5485 / 0.4422\n",
            "[107/250][0/40]\tLoss_D: 1.3741\tLoss_G: 0.8502\tD(x): 0.5688\tD(G(z)): 0.5438 / 0.4336\n",
            "[108/250][0/40]\tLoss_D: 1.3712\tLoss_G: 1.1927\tD(x): 0.6805\tD(G(z)): 0.6149 / 0.3158\n",
            "[109/250][0/40]\tLoss_D: 1.4558\tLoss_G: 1.0472\tD(x): 0.7319\tD(G(z)): 0.6699 / 0.3629\n",
            "[110/250][0/40]\tLoss_D: 1.2022\tLoss_G: 1.7481\tD(x): 0.7090\tD(G(z)): 0.5572 / 0.1949\n",
            "[111/250][0/40]\tLoss_D: 1.4473\tLoss_G: 1.0693\tD(x): 0.5855\tD(G(z)): 0.5806 / 0.3621\n",
            "[112/250][0/40]\tLoss_D: 1.1507\tLoss_G: 1.3267\tD(x): 0.5229\tD(G(z)): 0.3564 / 0.3042\n",
            "[113/250][0/40]\tLoss_D: 1.5811\tLoss_G: 1.0219\tD(x): 0.7530\tD(G(z)): 0.6976 / 0.3884\n",
            "[114/250][0/40]\tLoss_D: 1.3819\tLoss_G: 0.8579\tD(x): 0.4703\tD(G(z)): 0.4323 / 0.4446\n",
            "[115/250][0/40]\tLoss_D: 1.6312\tLoss_G: 0.8488\tD(x): 0.6945\tD(G(z)): 0.6856 / 0.4565\n",
            "[116/250][0/40]\tLoss_D: 1.3406\tLoss_G: 1.1530\tD(x): 0.6062\tD(G(z)): 0.5469 / 0.3276\n",
            "[117/250][0/40]\tLoss_D: 1.8108\tLoss_G: 1.3403\tD(x): 0.8588\tD(G(z)): 0.7951 / 0.2769\n",
            "[118/250][0/40]\tLoss_D: 1.6448\tLoss_G: 1.5979\tD(x): 0.8184\tD(G(z)): 0.7389 / 0.2393\n",
            "[119/250][0/40]\tLoss_D: 1.6923\tLoss_G: 1.7818\tD(x): 0.8717\tD(G(z)): 0.7628 / 0.1929\n",
            "[120/250][0/40]\tLoss_D: 1.3281\tLoss_G: 0.9975\tD(x): 0.6656\tD(G(z)): 0.5859 / 0.3841\n",
            "[121/250][0/40]\tLoss_D: 1.4312\tLoss_G: 1.2022\tD(x): 0.6151\tD(G(z)): 0.5849 / 0.3236\n",
            "[122/250][0/40]\tLoss_D: 1.5879\tLoss_G: 1.0563\tD(x): 0.7605\tD(G(z)): 0.7168 / 0.3593\n",
            "[123/250][0/40]\tLoss_D: 1.4131\tLoss_G: 0.7626\tD(x): 0.6499\tD(G(z)): 0.5919 / 0.4855\n",
            "[124/250][0/40]\tLoss_D: 1.0181\tLoss_G: 1.0928\tD(x): 0.4322\tD(G(z)): 0.1010 / 0.3733\n",
            "[125/250][0/40]\tLoss_D: 1.6106\tLoss_G: 0.7381\tD(x): 0.5557\tD(G(z)): 0.5821 / 0.5092\n",
            "[126/250][0/40]\tLoss_D: 1.3195\tLoss_G: 0.8410\tD(x): 0.6726\tD(G(z)): 0.5820 / 0.4508\n",
            "[127/250][0/40]\tLoss_D: 1.4920\tLoss_G: 1.1653\tD(x): 0.6944\tD(G(z)): 0.6521 / 0.3424\n",
            "[128/250][0/40]\tLoss_D: 1.6068\tLoss_G: 1.1083\tD(x): 0.6957\tD(G(z)): 0.6904 / 0.3469\n",
            "[129/250][0/40]\tLoss_D: 1.8259\tLoss_G: 1.0012\tD(x): 0.7805\tD(G(z)): 0.7738 / 0.3810\n",
            "[130/250][0/40]\tLoss_D: 1.3475\tLoss_G: 0.8132\tD(x): 0.5984\tD(G(z)): 0.5545 / 0.4533\n",
            "[131/250][0/40]\tLoss_D: 1.5063\tLoss_G: 1.0954\tD(x): 0.7215\tD(G(z)): 0.6814 / 0.3470\n",
            "[132/250][0/40]\tLoss_D: 1.5096\tLoss_G: 0.6390\tD(x): 0.3415\tD(G(z)): 0.3251 / 0.5409\n",
            "[133/250][0/40]\tLoss_D: 1.7042\tLoss_G: 1.0455\tD(x): 0.7486\tD(G(z)): 0.7452 / 0.3657\n",
            "[134/250][0/40]\tLoss_D: 1.3493\tLoss_G: 0.7872\tD(x): 0.5143\tD(G(z)): 0.4639 / 0.4704\n",
            "[135/250][0/40]\tLoss_D: 1.5534\tLoss_G: 1.7798\tD(x): 0.8132\tD(G(z)): 0.7218 / 0.1879\n",
            "[136/250][0/40]\tLoss_D: 1.2269\tLoss_G: 1.7043\tD(x): 0.5553\tD(G(z)): 0.4512 / 0.1997\n",
            "[137/250][0/40]\tLoss_D: 0.9388\tLoss_G: 1.4826\tD(x): 0.6549\tD(G(z)): 0.3792 / 0.2432\n",
            "[138/250][0/40]\tLoss_D: 1.3517\tLoss_G: 1.5494\tD(x): 0.7578\tD(G(z)): 0.6281 / 0.2452\n",
            "[139/250][0/40]\tLoss_D: 1.6030\tLoss_G: 1.9787\tD(x): 0.8123\tD(G(z)): 0.7348 / 0.1502\n",
            "[140/250][0/40]\tLoss_D: 1.1302\tLoss_G: 2.2298\tD(x): 0.8429\tD(G(z)): 0.5926 / 0.1186\n",
            "[141/250][0/40]\tLoss_D: 1.5618\tLoss_G: 1.8837\tD(x): 0.7706\tD(G(z)): 0.7056 / 0.1634\n",
            "[142/250][0/40]\tLoss_D: 1.0498\tLoss_G: 1.9139\tD(x): 0.6394\tD(G(z)): 0.4300 / 0.1653\n",
            "[143/250][0/40]\tLoss_D: 1.1555\tLoss_G: 0.8526\tD(x): 0.4842\tD(G(z)): 0.3038 / 0.4540\n",
            "[144/250][0/40]\tLoss_D: 1.5143\tLoss_G: 0.9394\tD(x): 0.3991\tD(G(z)): 0.4008 / 0.4200\n",
            "[145/250][0/40]\tLoss_D: 1.2712\tLoss_G: 1.4298\tD(x): 0.3308\tD(G(z)): 0.0700 / 0.2831\n",
            "[146/250][0/40]\tLoss_D: 1.4830\tLoss_G: 1.3718\tD(x): 0.6713\tD(G(z)): 0.6109 / 0.2902\n",
            "[147/250][0/40]\tLoss_D: 0.6888\tLoss_G: 2.1589\tD(x): 0.9086\tD(G(z)): 0.4127 / 0.1413\n",
            "[148/250][0/40]\tLoss_D: 0.2649\tLoss_G: 2.5709\tD(x): 0.8485\tD(G(z)): 0.0887 / 0.0905\n",
            "[149/250][0/40]\tLoss_D: 1.0636\tLoss_G: 1.6781\tD(x): 0.3922\tD(G(z)): 0.0694 / 0.2165\n",
            "[150/250][0/40]\tLoss_D: 1.8288\tLoss_G: 1.4303\tD(x): 0.8946\tD(G(z)): 0.7942 / 0.2710\n",
            "[151/250][0/40]\tLoss_D: 1.5737\tLoss_G: 1.3782\tD(x): 0.8318\tD(G(z)): 0.7118 / 0.3002\n",
            "[152/250][0/40]\tLoss_D: 0.9787\tLoss_G: 2.2990\tD(x): 0.8086\tD(G(z)): 0.4946 / 0.1311\n",
            "[153/250][0/40]\tLoss_D: 0.9632\tLoss_G: 1.7000\tD(x): 0.5755\tD(G(z)): 0.2457 / 0.2278\n",
            "[154/250][0/40]\tLoss_D: 1.8868\tLoss_G: 3.2709\tD(x): 0.8901\tD(G(z)): 0.8047 / 0.0438\n",
            "[155/250][0/40]\tLoss_D: 1.7704\tLoss_G: 3.2464\tD(x): 0.9524\tD(G(z)): 0.7787 / 0.0520\n",
            "[156/250][0/40]\tLoss_D: 1.5367\tLoss_G: 1.9219\tD(x): 0.8904\tD(G(z)): 0.7323 / 0.1691\n",
            "[157/250][0/40]\tLoss_D: 1.1256\tLoss_G: 1.5339\tD(x): 0.6393\tD(G(z)): 0.4510 / 0.2434\n",
            "[158/250][0/40]\tLoss_D: 3.5276\tLoss_G: 2.1279\tD(x): 0.0453\tD(G(z)): 0.0176 / 0.1703\n",
            "[159/250][0/40]\tLoss_D: 0.5942\tLoss_G: 2.1241\tD(x): 0.8073\tD(G(z)): 0.2959 / 0.1404\n",
            "[160/250][0/40]\tLoss_D: 0.5726\tLoss_G: 2.0101\tD(x): 0.7205\tD(G(z)): 0.1969 / 0.1562\n",
            "[161/250][0/40]\tLoss_D: 1.5550\tLoss_G: 2.8396\tD(x): 0.8845\tD(G(z)): 0.7311 / 0.0716\n",
            "[162/250][0/40]\tLoss_D: 1.3192\tLoss_G: 1.3603\tD(x): 0.6093\tD(G(z)): 0.5054 / 0.3030\n",
            "[163/250][0/40]\tLoss_D: 1.2500\tLoss_G: 0.6547\tD(x): 0.4521\tD(G(z)): 0.3124 / 0.5444\n",
            "[164/250][0/40]\tLoss_D: 1.5410\tLoss_G: 3.0716\tD(x): 0.9042\tD(G(z)): 0.7100 / 0.0653\n",
            "[165/250][0/40]\tLoss_D: 0.9928\tLoss_G: 2.3654\tD(x): 0.7324\tD(G(z)): 0.4540 / 0.1089\n",
            "[166/250][0/40]\tLoss_D: 0.7851\tLoss_G: 1.4169\tD(x): 0.6350\tD(G(z)): 0.2498 / 0.2769\n",
            "[167/250][0/40]\tLoss_D: 0.4256\tLoss_G: 3.7225\tD(x): 0.6751\tD(G(z)): 0.0111 / 0.0303\n",
            "[168/250][0/40]\tLoss_D: 2.8787\tLoss_G: 1.7827\tD(x): 0.0826\tD(G(z)): 0.0584 / 0.2123\n",
            "[169/250][0/40]\tLoss_D: 0.7658\tLoss_G: 2.6954\tD(x): 0.8338\tD(G(z)): 0.4241 / 0.0773\n",
            "[170/250][0/40]\tLoss_D: 0.6600\tLoss_G: 2.2097\tD(x): 0.9471\tD(G(z)): 0.4227 / 0.1356\n",
            "[171/250][0/40]\tLoss_D: 0.8799\tLoss_G: 2.1686\tD(x): 0.6619\tD(G(z)): 0.3211 / 0.1480\n",
            "[172/250][0/40]\tLoss_D: 0.1593\tLoss_G: 2.9062\tD(x): 0.9290\tD(G(z)): 0.0758 / 0.0810\n",
            "[173/250][0/40]\tLoss_D: 0.1175\tLoss_G: 3.2287\tD(x): 0.9255\tD(G(z)): 0.0379 / 0.0528\n",
            "[174/250][0/40]\tLoss_D: 1.0650\tLoss_G: 1.7067\tD(x): 0.6623\tD(G(z)): 0.4015 / 0.2351\n",
            "[175/250][0/40]\tLoss_D: 0.1497\tLoss_G: 3.0855\tD(x): 0.9043\tD(G(z)): 0.0443 / 0.0640\n",
            "[176/250][0/40]\tLoss_D: 1.7247\tLoss_G: 4.3699\tD(x): 0.9581\tD(G(z)): 0.7719 / 0.0221\n",
            "[177/250][0/40]\tLoss_D: 0.3080\tLoss_G: 3.5143\tD(x): 0.9183\tD(G(z)): 0.1857 / 0.0412\n",
            "[178/250][0/40]\tLoss_D: 0.7277\tLoss_G: 2.7518\tD(x): 0.9576\tD(G(z)): 0.4549 / 0.0884\n",
            "[179/250][0/40]\tLoss_D: 0.1222\tLoss_G: 3.4950\tD(x): 0.9204\tD(G(z)): 0.0355 / 0.0441\n",
            "[180/250][0/40]\tLoss_D: 1.6496\tLoss_G: 0.5957\tD(x): 0.2547\tD(G(z)): 0.0586 / 0.6436\n",
            "[181/250][0/40]\tLoss_D: 0.6197\tLoss_G: 6.2223\tD(x): 0.9867\tD(G(z)): 0.4207 / 0.0029\n",
            "[182/250][0/40]\tLoss_D: 1.1092\tLoss_G: 2.0499\tD(x): 0.3761\tD(G(z)): 0.0252 / 0.1875\n",
            "[183/250][0/40]\tLoss_D: 3.1152\tLoss_G: 7.3028\tD(x): 0.9140\tD(G(z)): 0.9169 / 0.0011\n",
            "[184/250][0/40]\tLoss_D: 2.7116\tLoss_G: 2.1131\tD(x): 0.9576\tD(G(z)): 0.8836 / 0.1870\n",
            "[185/250][0/40]\tLoss_D: 3.5938\tLoss_G: 2.4704\tD(x): 0.9963\tD(G(z)): 0.9535 / 0.1409\n",
            "[186/250][0/40]\tLoss_D: 2.1077\tLoss_G: 3.6163\tD(x): 0.9567\tD(G(z)): 0.8454 / 0.0395\n",
            "[187/250][0/40]\tLoss_D: 0.2053\tLoss_G: 3.3871\tD(x): 0.8457\tD(G(z)): 0.0294 / 0.0507\n",
            "[188/250][0/40]\tLoss_D: 1.0850\tLoss_G: 4.1103\tD(x): 0.9388\tD(G(z)): 0.5379 / 0.0486\n",
            "[189/250][0/40]\tLoss_D: 0.6675\tLoss_G: 3.4746\tD(x): 0.9751\tD(G(z)): 0.4127 / 0.0530\n",
            "[190/250][0/40]\tLoss_D: 0.5812\tLoss_G: 2.4824\tD(x): 0.5993\tD(G(z)): 0.0098 / 0.1051\n",
            "[191/250][0/40]\tLoss_D: 0.3554\tLoss_G: 1.9768\tD(x): 0.7534\tD(G(z)): 0.0437 / 0.1686\n",
            "[192/250][0/40]\tLoss_D: 2.0455\tLoss_G: 7.5668\tD(x): 0.9995\tD(G(z)): 0.8136 / 0.0011\n",
            "[193/250][0/40]\tLoss_D: 0.1730\tLoss_G: 3.8692\tD(x): 0.9080\tD(G(z)): 0.0534 / 0.0358\n",
            "[194/250][0/40]\tLoss_D: 0.2437\tLoss_G: 4.4041\tD(x): 0.9735\tD(G(z)): 0.1806 / 0.0204\n",
            "[195/250][0/40]\tLoss_D: 0.0584\tLoss_G: 5.1235\tD(x): 0.9571\tD(G(z)): 0.0137 / 0.0091\n",
            "[196/250][0/40]\tLoss_D: 0.0967\tLoss_G: 4.5358\tD(x): 0.9896\tD(G(z)): 0.0794 / 0.0178\n",
            "[197/250][0/40]\tLoss_D: 3.6801\tLoss_G: 8.0626\tD(x): 0.9976\tD(G(z)): 0.9513 / 0.0006\n",
            "[198/250][0/40]\tLoss_D: 0.2598\tLoss_G: 4.2493\tD(x): 0.9880\tD(G(z)): 0.2071 / 0.0181\n",
            "[199/250][0/40]\tLoss_D: 0.0398\tLoss_G: 4.1799\tD(x): 0.9857\tD(G(z)): 0.0247 / 0.0230\n",
            "[200/250][0/40]\tLoss_D: 0.3072\tLoss_G: 2.8398\tD(x): 0.7854\tD(G(z)): 0.0292 / 0.0942\n",
            "[201/250][0/40]\tLoss_D: 0.6082\tLoss_G: 3.1072\tD(x): 0.9707\tD(G(z)): 0.3855 / 0.0783\n",
            "[202/250][0/40]\tLoss_D: 0.1954\tLoss_G: 2.8912\tD(x): 0.9461\tD(G(z)): 0.1068 / 0.0908\n",
            "[203/250][0/40]\tLoss_D: 1.5731\tLoss_G: 2.6240\tD(x): 0.2639\tD(G(z)): 0.0003 / 0.1271\n",
            "[204/250][0/40]\tLoss_D: 4.4749\tLoss_G: 6.1081\tD(x): 0.9970\tD(G(z)): 0.9647 / 0.0087\n",
            "[205/250][0/40]\tLoss_D: 0.1190\tLoss_G: 2.8189\tD(x): 0.9688\tD(G(z)): 0.0798 / 0.0806\n",
            "[206/250][0/40]\tLoss_D: 1.1437\tLoss_G: 7.1012\tD(x): 0.9941\tD(G(z)): 0.6176 / 0.0018\n",
            "[207/250][0/40]\tLoss_D: 0.1811\tLoss_G: 3.4495\tD(x): 0.9815\tD(G(z)): 0.1356 / 0.0520\n",
            "[208/250][0/40]\tLoss_D: 0.0884\tLoss_G: 3.0150\tD(x): 0.9800\tD(G(z)): 0.0637 / 0.0677\n",
            "[209/250][0/40]\tLoss_D: 5.6150\tLoss_G: 3.4591\tD(x): 0.9998\tD(G(z)): 0.9907 / 0.0659\n",
            "[210/250][0/40]\tLoss_D: 0.1234\tLoss_G: 3.4472\tD(x): 0.9955\tD(G(z)): 0.1070 / 0.0516\n",
            "[211/250][0/40]\tLoss_D: 1.6260\tLoss_G: 4.7254\tD(x): 0.9062\tD(G(z)): 0.6915 / 0.0258\n",
            "[212/250][0/40]\tLoss_D: 2.4496\tLoss_G: 7.0225\tD(x): 0.9947\tD(G(z)): 0.8477 / 0.0033\n",
            "[213/250][0/40]\tLoss_D: 0.0858\tLoss_G: 3.7285\tD(x): 0.9667\tD(G(z)): 0.0493 / 0.0335\n",
            "[214/250][0/40]\tLoss_D: 2.0963\tLoss_G: 6.6915\tD(x): 0.9987\tD(G(z)): 0.8406 / 0.0024\n",
            "[215/250][0/40]\tLoss_D: 1.0210\tLoss_G: 5.1445\tD(x): 0.9556\tD(G(z)): 0.5233 / 0.0177\n",
            "[216/250][0/40]\tLoss_D: 0.5397\tLoss_G: 4.4445\tD(x): 0.9598\tD(G(z)): 0.2909 / 0.0330\n",
            "[217/250][0/40]\tLoss_D: 3.2208\tLoss_G: 5.4957\tD(x): 0.9997\tD(G(z)): 0.8993 / 0.0130\n",
            "[218/250][0/40]\tLoss_D: 0.0965\tLoss_G: 4.3006\tD(x): 0.9540\tD(G(z)): 0.0452 / 0.0236\n",
            "[219/250][0/40]\tLoss_D: 2.2366\tLoss_G: 3.8955\tD(x): 0.2162\tD(G(z)): 0.0158 / 0.0577\n",
            "[220/250][0/40]\tLoss_D: 0.3515\tLoss_G: 4.3842\tD(x): 0.9830\tD(G(z)): 0.2700 / 0.0160\n",
            "[221/250][0/40]\tLoss_D: 0.1688\tLoss_G: 4.4422\tD(x): 0.9888\tD(G(z)): 0.1402 / 0.0167\n",
            "[222/250][0/40]\tLoss_D: 0.0200\tLoss_G: 5.2153\tD(x): 0.9896\tD(G(z)): 0.0090 / 0.0113\n",
            "[223/250][0/40]\tLoss_D: 0.0614\tLoss_G: 5.0477\tD(x): 0.9519\tD(G(z)): 0.0099 / 0.0096\n",
            "[224/250][0/40]\tLoss_D: 0.1648\tLoss_G: 2.5895\tD(x): 0.9653\tD(G(z)): 0.1126 / 0.1391\n",
            "[225/250][0/40]\tLoss_D: 1.6335\tLoss_G: 5.2651\tD(x): 0.9945\tD(G(z)): 0.7364 / 0.0095\n",
            "[226/250][0/40]\tLoss_D: 0.5291\tLoss_G: 4.5585\tD(x): 0.9446\tD(G(z)): 0.3277 / 0.0223\n",
            "[227/250][0/40]\tLoss_D: 0.6538\tLoss_G: 0.4756\tD(x): 0.7123\tD(G(z)): 0.1396 / 0.6983\n",
            "[228/250][0/40]\tLoss_D: 0.8946\tLoss_G: 5.1404\tD(x): 0.9754\tD(G(z)): 0.5167 / 0.0094\n",
            "[229/250][0/40]\tLoss_D: 0.1666\tLoss_G: 3.4867\tD(x): 0.9261\tD(G(z)): 0.0792 / 0.0495\n",
            "[230/250][0/40]\tLoss_D: 2.0758\tLoss_G: 5.6190\tD(x): 0.9959\tD(G(z)): 0.8145 / 0.0079\n",
            "[231/250][0/40]\tLoss_D: 0.0512\tLoss_G: 4.7412\tD(x): 0.9611\tD(G(z)): 0.0108 / 0.0146\n",
            "[232/250][0/40]\tLoss_D: 0.0774\tLoss_G: 3.2488\tD(x): 0.9547\tD(G(z)): 0.0265 / 0.0709\n",
            "[233/250][0/40]\tLoss_D: 4.1022\tLoss_G: 5.9581\tD(x): 0.9986\tD(G(z)): 0.9588 / 0.0080\n",
            "[234/250][0/40]\tLoss_D: 0.2720\tLoss_G: 2.6800\tD(x): 0.8239\tD(G(z)): 0.0454 / 0.1307\n",
            "[235/250][0/40]\tLoss_D: 0.1676\tLoss_G: 3.8677\tD(x): 0.9625\tD(G(z)): 0.1133 / 0.0321\n",
            "[236/250][0/40]\tLoss_D: 0.2681\tLoss_G: 3.6553\tD(x): 0.9837\tD(G(z)): 0.2109 / 0.0354\n",
            "[237/250][0/40]\tLoss_D: 1.0772\tLoss_G: 3.6938\tD(x): 0.8341\tD(G(z)): 0.5150 / 0.0409\n",
            "[238/250][0/40]\tLoss_D: 4.2406\tLoss_G: 4.1118\tD(x): 0.9966\tD(G(z)): 0.9673 / 0.0455\n",
            "[239/250][0/40]\tLoss_D: 0.7704\tLoss_G: 4.0826\tD(x): 0.9508\tD(G(z)): 0.4588 / 0.0264\n",
            "[240/250][0/40]\tLoss_D: 0.5227\tLoss_G: 4.1016\tD(x): 0.9904\tD(G(z)): 0.3403 / 0.0343\n",
            "[241/250][0/40]\tLoss_D: 0.0227\tLoss_G: 7.7371\tD(x): 0.9785\tD(G(z)): 0.0007 / 0.0010\n",
            "[242/250][0/40]\tLoss_D: 0.0804\tLoss_G: 4.1155\tD(x): 0.9566\tD(G(z)): 0.0332 / 0.0264\n",
            "[243/250][0/40]\tLoss_D: 0.1145\tLoss_G: 2.5295\tD(x): 0.9943\tD(G(z)): 0.0977 / 0.1144\n",
            "[244/250][0/40]\tLoss_D: 0.0336\tLoss_G: 6.7021\tD(x): 0.9688\tD(G(z)): 0.0013 / 0.0021\n",
            "[245/250][0/40]\tLoss_D: 3.7150\tLoss_G: 10.8576\tD(x): 0.9997\tD(G(z)): 0.9499 / 0.0000\n",
            "[246/250][0/40]\tLoss_D: 2.1554\tLoss_G: 2.1927\tD(x): 0.9723\tD(G(z)): 0.8249 / 0.1818\n",
            "[247/250][0/40]\tLoss_D: 1.6938\tLoss_G: 4.0797\tD(x): 0.9626\tD(G(z)): 0.7242 / 0.0405\n",
            "[248/250][0/40]\tLoss_D: 0.3556\tLoss_G: 2.4665\tD(x): 0.9368\tD(G(z)): 0.2287 / 0.1311\n",
            "[249/250][0/40]\tLoss_D: 0.2212\tLoss_G: 2.9191\tD(x): 0.9311\tD(G(z)): 0.1292 / 0.0744\n"
          ],
          "name": "stdout"
        }
      ]
    },
    {
      "cell_type": "code",
      "metadata": {
        "id": "i4pC3ToBu5ii",
        "colab_type": "code",
        "colab": {
          "base_uri": "https://localhost:8080/",
          "height": 350
        },
        "outputId": "2c33aff1-cd0b-47b3-8f61-cbfa87e3222f"
      },
      "source": [
        "plt.figure(figsize=(10,5))\n",
        "plt.title(\"Generator and Discriminator Loss During Training\")\n",
        "plt.plot(G_losses,label=\"G\")\n",
        "plt.plot(D_losses,label=\"D\")\n",
        "plt.xlabel(\"iterations\")\n",
        "plt.ylabel(\"Loss\")\n",
        "plt.legend()\n",
        "plt.show()"
      ],
      "execution_count": 27,
      "outputs": [
        {
          "output_type": "display_data",
          "data": {
            "image/png": "[encoded data removed]",
            "text/plain": [
              "<Figure size 720x360 with 1 Axes>"
            ]
          },
          "metadata": {
            "tags": []
          }
        }
      ]
    },
    {
      "cell_type": "code",
      "metadata": {
        "id": "ExCGvbC5_kah",
        "colab_type": "code",
        "colab": {
          "base_uri": "https://localhost:8080/",
          "height": 427
        },
        "outputId": "ccea0627-32ed-4396-916e-e9a7aa1d8e4a"
      },
      "source": [
        "# Grab a batch of real images from the dataloader\n",
        "real_batch = next(iter(dataloader))\n",
        "\n",
        "# Plot the real images\n",
        "plt.figure(figsize=(15,15))\n",
        "plt.subplot(1,2,1)\n",
        "plt.axis(\"off\")\n",
        "plt.title(\"Real Images\")\n",
        "plt.imshow(np.transpose(vutils.make_grid(real_batch[0].to(device)[:64], padding=5, normalize=True).cpu(),(1,2,0)))\n",
        "\n",
        "# Plot the fake images from the last epoch\n",
        "plt.subplot(1,2,2)\n",
        "plt.axis(\"off\")\n",
        "plt.title(\"Fake Images\")\n",
        "plt.imshow(np.transpose(img_list[-1],(1,2,0)))\n",
        "plt.show()"
      ],
      "execution_count": 28,
      "outputs": [
        {
          "output_type": "display_data",
          "data": {
            "image/png": "[encoded data removed]",
            "text/plain": [
              "<Figure size 1080x1080 with 2 Axes>"
            ]
          },
          "metadata": {
            "tags": []
          }
        }
      ]
    },
    {
      "cell_type": "code",
      "metadata": {
        "id": "wCZSVnWg_rzm",
        "colab_type": "code",
        "colab": {}
      },
      "source": [
        ""
      ],
      "execution_count": 0,
      "outputs": []
    }
  ]
}